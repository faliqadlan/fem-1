{
 "cells": [
  {
   "cell_type": "code",
   "execution_count": 1,
   "metadata": {},
   "outputs": [
    {
     "ename": "IndexError",
     "evalue": "list index out of range",
     "output_type": "error",
     "traceback": [
      "\u001b[1;31m---------------------------------------------------------------------------\u001b[0m",
      "\u001b[1;31mIndexError\u001b[0m                                Traceback (most recent call last)",
      "\u001b[1;32md:\\OneDrive - UGM 365\\Semester Gasal 2023-2024\\Topik Khusus dalam Fisika Komputasi\\fem-1\\fem-2.ipynb Cell 1\u001b[0m line \u001b[0;36m1\n\u001b[0;32m     <a href='vscode-notebook-cell:/d%3A/OneDrive%20-%20UGM%20365/Semester%20Gasal%202023-2024/Topik%20Khusus%20dalam%20Fisika%20Komputasi/fem-1/fem-2.ipynb#W0sZmlsZQ%3D%3D?line=14'>15</a>\u001b[0m R \u001b[39m=\u001b[39m \u001b[39m-\u001b[39mbs[\u001b[39m0\u001b[39m]\n\u001b[0;32m     <a href='vscode-notebook-cell:/d%3A/OneDrive%20-%20UGM%20365/Semester%20Gasal%202023-2024/Topik%20Khusus%20dalam%20Fisika%20Komputasi/fem-1/fem-2.ipynb#W0sZmlsZQ%3D%3D?line=15'>16</a>\u001b[0m \u001b[39mfor\u001b[39;00m j \u001b[39min\u001b[39;00m \u001b[39mrange\u001b[39m(\u001b[39m1\u001b[39m, j_max):\n\u001b[1;32m---> <a href='vscode-notebook-cell:/d%3A/OneDrive%20-%20UGM%20365/Semester%20Gasal%202023-2024/Topik%20Khusus%20dalam%20Fisika%20Komputasi/fem-1/fem-2.ipynb#W0sZmlsZQ%3D%3D?line=16'>17</a>\u001b[0m     R \u001b[39m+\u001b[39m\u001b[39m=\u001b[39m q[j \u001b[39m-\u001b[39m \u001b[39m1\u001b[39m] \u001b[39m*\u001b[39m (j \u001b[39m*\u001b[39m bs[j] \u001b[39m-\u001b[39m bs[j \u001b[39m+\u001b[39;49m \u001b[39m1\u001b[39;49m])\n\u001b[0;32m     <a href='vscode-notebook-cell:/d%3A/OneDrive%20-%20UGM%20365/Semester%20Gasal%202023-2024/Topik%20Khusus%20dalam%20Fisika%20Komputasi/fem-1/fem-2.ipynb#W0sZmlsZQ%3D%3D?line=18'>19</a>\u001b[0m \u001b[39mprint\u001b[39m(R)\n\u001b[0;32m     <a href='vscode-notebook-cell:/d%3A/OneDrive%20-%20UGM%20365/Semester%20Gasal%202023-2024/Topik%20Khusus%20dalam%20Fisika%20Komputasi/fem-1/fem-2.ipynb#W0sZmlsZQ%3D%3D?line=20'>21</a>\u001b[0m intRArr \u001b[39m=\u001b[39m []\n",
      "\u001b[1;31mIndexError\u001b[0m: list index out of range"
     ]
    }
   ],
   "source": [
    "from sympy import symbols, integrate, Eq, Matrix, linsolve, exp\n",
    "import numpy as np\n",
    "import sympy.plotting as syp\n",
    "\n",
    "# Define Symbol\n",
    "x = symbols(\"x\")\n",
    "j_max = 3\n",
    "j_max += 1\n",
    "q = symbols(\"q1:%d\" % j_max)\n",
    "\n",
    "# Define basis function\n",
    "bs = [x**i for i in range(j_max)]\n",
    "\n",
    "# Define equation\n",
    "R = -bs[0]\n",
    "for j in range(1, j_max):\n",
    "    R += q[j - 1] * (j * bs[j] - bs[j + 1])\n",
    "\n",
    "print(R)\n",
    "\n",
    "intRArr = []\n",
    "\n",
    "for i in range(1, j_max):\n",
    "    intR = bs[i] * R\n",
    "    integrated_R = integrate(intR, (x, 0, 1))\n",
    "    print(integrated_R)\n",
    "    intRArr.append(integrated_R)\n",
    "\n",
    "\n",
    "# Create equations from intRArr\n",
    "equations = [Eq(eq, 0) for eq in intRArr]\n",
    "\n",
    "# Solve the system\n",
    "solution = linsolve(equations, q)\n",
    "\n",
    "print(solution)\n",
    "\n",
    "# Extract the solution values\n",
    "solution_values = list(solution)[0]\n",
    "\n",
    "# Construct the equation\n",
    "y = bs[0]\n",
    "for i in range(j_max - 1):\n",
    "    y += solution_values[i] * bs[i + 1]\n",
    "\n",
    "# make y a function\n",
    "y = y.subs(x, symbols(\"x\"))\n",
    "\n",
    "# plot y from 0 to 1\n",
    "p1 = syp.plot(y, (x, 0, 1), show=False, line_color=\"blue\")\n",
    "\n",
    "# plot exponential function for comparison\n",
    "p2 = syp.plot(exp(x), (x, 0, 1), show=False, line_color=\"red\")\n",
    "\n",
    "# plot the error between y and the exponential function\n",
    "error = y - exp(x)\n",
    "p3 = syp.plot(error**2, (x, 0, 1), show=False, line_color=\"green\")\n",
    "\n",
    "# combine the two plots and show them\n",
    "p1.extend(p2)\n",
    "p1.show()\n",
    "p3.show()"
   ]
  }
 ],
 "metadata": {
  "kernelspec": {
   "display_name": "Python 3",
   "language": "python",
   "name": "python3"
  },
  "language_info": {
   "codemirror_mode": {
    "name": "ipython",
    "version": 3
   },
   "file_extension": ".py",
   "mimetype": "text/x-python",
   "name": "python",
   "nbconvert_exporter": "python",
   "pygments_lexer": "ipython3",
   "version": "3.11.4"
  }
 },
 "nbformat": 4,
 "nbformat_minor": 2
}
